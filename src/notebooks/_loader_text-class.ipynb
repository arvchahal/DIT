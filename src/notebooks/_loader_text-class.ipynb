{
 "cells": [
  {
   "cell_type": "markdown",
   "id": "81567620",
   "metadata": {},
   "source": [
    "#### A bunch of sample load ins of huggingface models for text classification this will just be for testing not models we will be using in the tests as they are just able to write the sentiments/clssifcations of text in their domains\n",
    "\n",
    "Note these models take a bit of time to load especially the large ones "
   ]
  },
  {
   "cell_type": "code",
   "execution_count": 1,
   "id": "ab9726e6",
   "metadata": {},
   "outputs": [
    {
     "name": "stderr",
     "output_type": "stream",
     "text": [
      "/Users/chahal/github/DIT/env/lib/python3.12/site-packages/tqdm/auto.py:21: TqdmWarning: IProgress not found. Please update jupyter and ipywidgets. See https://ipywidgets.readthedocs.io/en/stable/user_install.html\n",
      "  from .autonotebook import tqdm as notebook_tqdm\n"
     ]
    }
   ],
   "source": [
    "from transformers import pipeline\n",
    "import numpy\n",
    "import torch\n",
    "import matplotlib"
   ]
  },
  {
   "cell_type": "markdown",
   "id": "c2a3b93b",
   "metadata": {},
   "source": [
    "### Sentiment model loader and test"
   ]
  },
  {
   "cell_type": "code",
   "execution_count": 2,
   "id": "3ca896fe",
   "metadata": {},
   "outputs": [
    {
     "name": "stderr",
     "output_type": "stream",
     "text": [
      "Device set to use mps:0\n"
     ]
    }
   ],
   "source": [
    "sentiment_model = pipeline(\"sentiment-analysis\", model=\"distilbert-base-uncased-finetuned-sst-2-english\")\n"
   ]
  },
  {
   "cell_type": "code",
   "execution_count": 3,
   "id": "5d89a6c7",
   "metadata": {},
   "outputs": [
    {
     "name": "stdout",
     "output_type": "stream",
     "text": [
      "[{'label': 'POSITIVE', 'score': 0.9998825788497925}]\n"
     ]
    }
   ],
   "source": [
    "text = \"I really enjoyed the new movie. The acting was brilliant and the plot was engaging.\"\n",
    "\n",
    "result = sentiment_model(text)\n",
    "\n",
    "print(result)"
   ]
  },
  {
   "cell_type": "markdown",
   "id": "27959170",
   "metadata": {},
   "source": [
    "### Finance model loader and test"
   ]
  },
  {
   "cell_type": "code",
   "execution_count": 4,
   "id": "884f60ec",
   "metadata": {},
   "outputs": [
    {
     "name": "stderr",
     "output_type": "stream",
     "text": [
      "Device set to use mps:0\n"
     ]
    }
   ],
   "source": [
    "finance = pipeline(\"text-classification\", model=\"ProsusAI/finbert\")      \n"
   ]
  },
  {
   "cell_type": "code",
   "execution_count": 5,
   "id": "25098fe1",
   "metadata": {},
   "outputs": [
    {
     "name": "stdout",
     "output_type": "stream",
     "text": [
      "[{'label': 'neutral', 'score': 0.8373625874519348}]\n"
     ]
    }
   ],
   "source": [
    "text = \"We need to get those quantitative finance money stocks to trade\"\n",
    "result = finance(text)\n",
    "print(result)"
   ]
  },
  {
   "cell_type": "markdown",
   "id": "92daca9f",
   "metadata": {},
   "source": [
    "### Legal "
   ]
  },
  {
   "cell_type": "code",
   "execution_count": null,
   "id": "5d291f52",
   "metadata": {},
   "outputs": [
    {
     "name": "stderr",
     "output_type": "stream",
     "text": [
      "huggingface/tokenizers: The current process just got forked, after parallelism has already been used. Disabling parallelism to avoid deadlocks...\n",
      "To disable this warning, you can either:\n",
      "\t- Avoid using `tokenizers` before the fork if possible\n",
      "\t- Explicitly set the environment variable TOKENIZERS_PARALLELISM=(true | false)\n"
     ]
    }
   ],
   "source": [
    "from transformers import AutoTokenizer, AutoModelForMaskedLM\n",
    "tokenizer = AutoTokenizer.from_pretrained(\"nlpaueb/legal-bert-base-uncased\")\n",
    "model = AutoModelForMaskedLM.from_pretrained(\"nlpaueb/legal-bert-base-uncased\")"
   ]
  },
  {
   "cell_type": "markdown",
   "id": "a0ed52ee",
   "metadata": {},
   "source": [
    "### News"
   ]
  },
  {
   "cell_type": "code",
   "execution_count": null,
   "id": "4040ef0a",
   "metadata": {},
   "outputs": [],
   "source": [
    "pipeline(\"text-classification\", model=\"mrm8488/bert-tiny-finetuned-ag_news\")\n"
   ]
  },
  {
   "cell_type": "markdown",
   "id": "3ed94da1",
   "metadata": {},
   "source": [
    "### Emotions"
   ]
  },
  {
   "cell_type": "code",
   "execution_count": null,
   "id": "be97c207",
   "metadata": {},
   "outputs": [],
   "source": [
    "pipeline(\"text-classification\", model=\"bhadresh-savani/distilbert-base-uncased-emotion\")\n"
   ]
  },
  {
   "cell_type": "markdown",
   "id": "d2c7fe0c",
   "metadata": {},
   "source": [
    "### Superlarge model prolly take forever to load"
   ]
  },
  {
   "cell_type": "code",
   "execution_count": null,
   "id": "27f2d430",
   "metadata": {},
   "outputs": [],
   "source": [
    "pipeline(\"text2text-generation\", model=\"google/flan-t5-base\")\n"
   ]
  }
 ],
 "metadata": {
  "kernelspec": {
   "display_name": "env",
   "language": "python",
   "name": "python3"
  },
  "language_info": {
   "codemirror_mode": {
    "name": "ipython",
    "version": 3
   },
   "file_extension": ".py",
   "mimetype": "text/x-python",
   "name": "python",
   "nbconvert_exporter": "python",
   "pygments_lexer": "ipython3",
   "version": "3.12.7"
  }
 },
 "nbformat": 4,
 "nbformat_minor": 5
}
