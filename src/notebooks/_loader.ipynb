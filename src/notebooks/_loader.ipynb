{
 "cells": [
  {
   "cell_type": "markdown",
   "id": "81567620",
   "metadata": {},
   "source": [
    "## A bunch of sample load ins of huggingface models that we will be using\n",
    "\n",
    "Note these models take a bit of time to load especially the large ones "
   ]
  },
  {
   "cell_type": "code",
   "execution_count": 7,
   "id": "ab9726e6",
   "metadata": {},
   "outputs": [],
   "source": [
    "from transformers import pipeline\n",
    "import numpy\n",
    "import torch\n",
    "import matplotlib"
   ]
  },
  {
   "cell_type": "markdown",
   "id": "c2a3b93b",
   "metadata": {},
   "source": [
    "### Sentiment model loader and test"
   ]
  },
  {
   "cell_type": "code",
   "execution_count": 8,
   "id": "3ca896fe",
   "metadata": {},
   "outputs": [
    {
     "name": "stderr",
     "output_type": "stream",
     "text": [
      "Device set to use mps:0\n"
     ]
    }
   ],
   "source": [
    "sentiment_model = pipeline(\"sentiment-analysis\", model=\"distilbert-base-uncased-finetuned-sst-2-english\")\n"
   ]
  },
  {
   "cell_type": "code",
   "execution_count": 9,
   "id": "5d89a6c7",
   "metadata": {},
   "outputs": [
    {
     "name": "stdout",
     "output_type": "stream",
     "text": [
      "[{'label': 'POSITIVE', 'score': 0.9998825788497925}]\n"
     ]
    }
   ],
   "source": [
    "text = \"I really enjoyed the new movie. The acting was brilliant and the plot was engaging.\"\n",
    "\n",
    "result = sentiment_model(text)\n",
    "\n",
    "print(result)"
   ]
  },
  {
   "cell_type": "markdown",
   "id": "27959170",
   "metadata": {},
   "source": [
    "### Finance model loader and test"
   ]
  },
  {
   "cell_type": "code",
   "execution_count": 6,
   "id": "884f60ec",
   "metadata": {},
   "outputs": [
    {
     "name": "stderr",
     "output_type": "stream",
     "text": [
      "Device set to use mps:0\n"
     ]
    }
   ],
   "source": [
    "finance = pipeline(\"text-classification\", model=\"ProsusAI/finbert\")      \n"
   ]
  },
  {
   "cell_type": "code",
   "execution_count": 10,
   "id": "25098fe1",
   "metadata": {},
   "outputs": [
    {
     "name": "stdout",
     "output_type": "stream",
     "text": [
      "[{'label': 'neutral', 'score': 0.8373625874519348}]\n"
     ]
    }
   ],
   "source": [
    "text = \"We need to get those quantitative finance money stocks to trade\"\n",
    "result = finance(text)\n",
    "print(result)"
   ]
  }
 ],
 "metadata": {
  "kernelspec": {
   "display_name": "env",
   "language": "python",
   "name": "python3"
  },
  "language_info": {
   "codemirror_mode": {
    "name": "ipython",
    "version": 3
   },
   "file_extension": ".py",
   "mimetype": "text/x-python",
   "name": "python",
   "nbconvert_exporter": "python",
   "pygments_lexer": "ipython3",
   "version": "3.12.7"
  }
 },
 "nbformat": 4,
 "nbformat_minor": 5
}
